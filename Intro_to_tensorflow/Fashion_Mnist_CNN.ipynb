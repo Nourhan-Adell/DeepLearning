{
  "nbformat": 4,
  "nbformat_minor": 0,
  "metadata": {
    "colab": {
      "name": "Fashion_Mnist_CNN.ipynb",
      "provenance": [],
      "collapsed_sections": [],
      "authorship_tag": "ABX9TyNSx5mkcvtvlgTL5Bvw/JBD",
      "include_colab_link": true
    },
    "kernelspec": {
      "name": "python3",
      "display_name": "Python 3"
    },
    "language_info": {
      "name": "python"
    }
  },
  "cells": [
    {
      "cell_type": "markdown",
      "metadata": {
        "id": "view-in-github",
        "colab_type": "text"
      },
      "source": [
        "<a href=\"https://colab.research.google.com/github/Nourhan-Adell/DeepLearning/blob/main/Fashion_Mnist_CNN.ipynb\" target=\"_parent\"><img src=\"https://colab.research.google.com/assets/colab-badge.svg\" alt=\"Open In Colab\"/></a>"
      ]
    },
    {
      "cell_type": "code",
      "source": [
        "import tensorflow as tf\n",
        "import numpy as np\n",
        "import matplotlib.pyplot as plt"
      ],
      "metadata": {
        "id": "b7W-t3Pb4Wy9"
      },
      "execution_count": null,
      "outputs": []
    },
    {
      "cell_type": "markdown",
      "source": [
        "## **Implementing  a class that Stop the trianing when I reach a point that I want to be at..**"
      ],
      "metadata": {
        "id": "uSNFZXs-B8xT"
      }
    },
    {
      "cell_type": "code",
      "source": [
        "class myCallback(tf.keras.callbacks.Callback):\n",
        "  def on_epoch_end(self, epoch, logs={}):\n",
        "    if(logs.get('loss') < 0.4):\n",
        "      print('\\nLoss is low so cancelling training!')\n",
        "      self.model.stop_training =  True\n",
        "\n",
        "# Instantiate class\n",
        "callbacks = myCallback()"
      ],
      "metadata": {
        "id": "WjgXq2O6B8Jz"
      },
      "execution_count": null,
      "outputs": []
    },
    {
      "cell_type": "markdown",
      "source": [
        "**What does this function do?**\n",
        "\n",
        "Is taht at every epoch, you can callback to the code function, having checked the matrics.\n",
        "And if they're what you want to say then you can cancel the training at that point.\n",
        "\n",
        "\n",
        "This includes stopping training when you reach a certain accuracy/loss score, saving your model as a checkpoint after each successful epoch, adjusting the learning rates over time, and more.\n",
        "\n",
        "**And thus helping in reduce the overfitting problem**"
      ],
      "metadata": {
        "id": "GAWaaodHDHcb"
      }
    },
    {
      "cell_type": "markdown",
      "source": [
        "## **Load the Fashion_mnist dataset**"
      ],
      "metadata": {
        "id": "JEJzKyor705w"
      }
    },
    {
      "cell_type": "code",
      "execution_count": null,
      "metadata": {
        "id": "BmdhkshC4GvD"
      },
      "outputs": [],
      "source": [
        "fashion_mnist = tf.keras.datasets.fashion_mnist\n",
        "(train_images, train_labels),(test_images, test_labels)= fashion_mnist.load_data()"
      ]
    },
    {
      "cell_type": "code",
      "source": [
        "train_images.shape"
      ],
      "metadata": {
        "colab": {
          "base_uri": "https://localhost:8080/"
        },
        "id": "WRq1szH942r9",
        "outputId": "85fd6cad-7fc5-4b06-a064-eec41c8bd42e"
      },
      "execution_count": null,
      "outputs": [
        {
          "output_type": "execute_result",
          "data": {
            "text/plain": [
              "(60000, 28, 28)"
            ]
          },
          "metadata": {},
          "execution_count": 4
        }
      ]
    },
    {
      "cell_type": "markdown",
      "source": [
        "This show that the training data has 60000 images in it so we can show anu image between 0 and 59999 and its label."
      ],
      "metadata": {
        "id": "kbj7ph1S8FBF"
      }
    },
    {
      "cell_type": "code",
      "source": [
        "index = 0\n",
        "\n",
        "np.set_printoptions(linewidth=320)  #Thus to set the number of characters per row when printing^^\n",
        "#Print the label and the image\n",
        "print(f'Label: {train_labels[index]}\\n')\n",
        "print(f'Image pixel array: {train_images[index]}')\n",
        "\n",
        "#Visualize the image\n",
        "plt.imshow(train_images[index], cmap='Greys')"
      ],
      "metadata": {
        "colab": {
          "base_uri": "https://localhost:8080/",
          "height": 823
        },
        "id": "RumnPa3L5MQv",
        "outputId": "1cad64ca-d4a1-4cb2-cb77-b1bcedbd93ba"
      },
      "execution_count": null,
      "outputs": [
        {
          "output_type": "stream",
          "name": "stdout",
          "text": [
            "Label: 9\n",
            "\n",
            "Image pixel array: [[  0   0   0   0   0   0   0   0   0   0   0   0   0   0   0   0   0   0   0   0   0   0   0   0   0   0   0   0]\n",
            " [  0   0   0   0   0   0   0   0   0   0   0   0   0   0   0   0   0   0   0   0   0   0   0   0   0   0   0   0]\n",
            " [  0   0   0   0   0   0   0   0   0   0   0   0   0   0   0   0   0   0   0   0   0   0   0   0   0   0   0   0]\n",
            " [  0   0   0   0   0   0   0   0   0   0   0   0   1   0   0  13  73   0   0   1   4   0   0   0   0   1   1   0]\n",
            " [  0   0   0   0   0   0   0   0   0   0   0   0   3   0  36 136 127  62  54   0   0   0   1   3   4   0   0   3]\n",
            " [  0   0   0   0   0   0   0   0   0   0   0   0   6   0 102 204 176 134 144 123  23   0   0   0   0  12  10   0]\n",
            " [  0   0   0   0   0   0   0   0   0   0   0   0   0   0 155 236 207 178 107 156 161 109  64  23  77 130  72  15]\n",
            " [  0   0   0   0   0   0   0   0   0   0   0   1   0  69 207 223 218 216 216 163 127 121 122 146 141  88 172  66]\n",
            " [  0   0   0   0   0   0   0   0   0   1   1   1   0 200 232 232 233 229 223 223 215 213 164 127 123 196 229   0]\n",
            " [  0   0   0   0   0   0   0   0   0   0   0   0   0 183 225 216 223 228 235 227 224 222 224 221 223 245 173   0]\n",
            " [  0   0   0   0   0   0   0   0   0   0   0   0   0 193 228 218 213 198 180 212 210 211 213 223 220 243 202   0]\n",
            " [  0   0   0   0   0   0   0   0   0   1   3   0  12 219 220 212 218 192 169 227 208 218 224 212 226 197 209  52]\n",
            " [  0   0   0   0   0   0   0   0   0   0   6   0  99 244 222 220 218 203 198 221 215 213 222 220 245 119 167  56]\n",
            " [  0   0   0   0   0   0   0   0   0   4   0   0  55 236 228 230 228 240 232 213 218 223 234 217 217 209  92   0]\n",
            " [  0   0   1   4   6   7   2   0   0   0   0   0 237 226 217 223 222 219 222 221 216 223 229 215 218 255  77   0]\n",
            " [  0   3   0   0   0   0   0   0   0  62 145 204 228 207 213 221 218 208 211 218 224 223 219 215 224 244 159   0]\n",
            " [  0   0   0   0  18  44  82 107 189 228 220 222 217 226 200 205 211 230 224 234 176 188 250 248 233 238 215   0]\n",
            " [  0  57 187 208 224 221 224 208 204 214 208 209 200 159 245 193 206 223 255 255 221 234 221 211 220 232 246   0]\n",
            " [  3 202 228 224 221 211 211 214 205 205 205 220 240  80 150 255 229 221 188 154 191 210 204 209 222 228 225   0]\n",
            " [ 98 233 198 210 222 229 229 234 249 220 194 215 217 241  65  73 106 117 168 219 221 215 217 223 223 224 229  29]\n",
            " [ 75 204 212 204 193 205 211 225 216 185 197 206 198 213 240 195 227 245 239 223 218 212 209 222 220 221 230  67]\n",
            " [ 48 203 183 194 213 197 185 190 194 192 202 214 219 221 220 236 225 216 199 206 186 181 177 172 181 205 206 115]\n",
            " [  0 122 219 193 179 171 183 196 204 210 213 207 211 210 200 196 194 191 195 191 198 192 176 156 167 177 210  92]\n",
            " [  0   0  74 189 212 191 175 172 175 181 185 188 189 188 193 198 204 209 210 210 211 188 188 194 192 216 170   0]\n",
            " [  2   0   0   0  66 200 222 237 239 242 246 243 244 221 220 193 191 179 182 182 181 176 166 168  99  58   0   0]\n",
            " [  0   0   0   0   0   0   0  40  61  44  72  41  35   0   0   0   0   0   0   0   0   0   0   0   0   0   0   0]\n",
            " [  0   0   0   0   0   0   0   0   0   0   0   0   0   0   0   0   0   0   0   0   0   0   0   0   0   0   0   0]\n",
            " [  0   0   0   0   0   0   0   0   0   0   0   0   0   0   0   0   0   0   0   0   0   0   0   0   0   0   0   0]]\n"
          ]
        },
        {
          "output_type": "execute_result",
          "data": {
            "text/plain": [
              "<matplotlib.image.AxesImage at 0x7fd8ff659390>"
            ]
          },
          "metadata": {},
          "execution_count": 5
        },
        {
          "output_type": "display_data",
          "data": {
            "text/plain": [
              "<Figure size 432x288 with 1 Axes>"
            ],
            "image/png": "[encoded data removed]"
          },
          "metadata": {
            "needs_background": "light"
          }
        }
      ]
    },
    {
      "cell_type": "code",
      "source": [
        "index = 50\n",
        "\n",
        "np.set_printoptions(linewidth=320)  #Thus to set the number of characters per row when printing^^\n",
        "#Print the label and the image\n",
        "print(f'Label: {train_labels[index]}\\n')\n",
        "print(f'Image pixel array: {train_images[index]}')\n",
        "\n",
        "#Visualize the image\n",
        "plt.imshow(train_images[index], cmap='Greys')"
      ],
      "metadata": {
        "colab": {
          "base_uri": "https://localhost:8080/",
          "height": 823
        },
        "id": "-wUOmZie9Wsl",
        "outputId": "e5ec9601-ffc3-4da0-a1bd-97ed68caf4a2"
      },
      "execution_count": null,
      "outputs": [
        {
          "output_type": "stream",
          "name": "stdout",
          "text": [
            "Label: 3\n",
            "\n",
            "Image pixel array: [[  0   0   0   0   0   0   0   0   1   0   0   9   6   0   0   0  24   0   0   0   0   0   0   0   0   0   0   0]\n",
            " [  0   0   0   0   0   0   0   0   0  67 209 231 248 252 250 253 246 206 132   0   0   0   0   0   0   0   0   0]\n",
            " [  0   0   0   0   0   0   0   0   1 227 243 234 234 248 246 238 230 234 250 126   0   0   0   0   0   0   0   0]\n",
            " [  0   0   0   0   0   0   0   0  57 231 213 227 234 232 231 235 232 218 218 222   0   0   0   0   0   0   0   0]\n",
            " [  0   0   0   0   0   0   0   0  90 239 207 213 236 235 232 232 229 210 215 207   6   0   0   0   0   0   0   0]\n",
            " [  0   0   0   0   0   0   0   0 211 245 229 197 220 221 221 222 203 221 235 222  96   0   0   0   0   0   0   0]\n",
            " [  0   0   0   0   0   0   0   0  55 154 239 213 217 218 214 215 215 199 235 167  61   0   0   0   0   0   0   0]\n",
            " [  0   0   0   0   0   0   0   0   0   0  17 238 220 221 215 210 249  98   0   0   0   0   0   0   0   0   0   0]\n",
            " [  0   0   0   0   0   0   0   0   2   0   0 225 220 214 211 215 251 112   0   2   2   0   0   0   0   0   0   0]\n",
            " [  0   0   0   0   0   0   0   0   1   0   0 208 218 218 224 210 221 100   0   4   0   0   0   0   0   0   0   0]\n",
            " [  0   0   0   0   0   0   0   0   1   0  16 213 244 255 218 204 218 143   0   1   0   0   0   0   0   0   0   0]\n",
            " [  0   0   0   0   0   0   0   0   2   0  76 232 235 234 218 211 220 223   0   0   2   0   0   0   0   0   0   0]\n",
            " [  0   0   0   0   0   0   0   0   0   0 161 225 218 218 220 206 209 213  32   0   5   0   0   0   0   0   0   0]\n",
            " [  0   0   0   0   0   0   0   0   0   0 214 218 222 221 218 210 207 217  89   0   2   0   0   0   0   0   0   0]\n",
            " [  0   0   0   0   0   0   0   0   0   0 207 211 225 218 218 209 208 217 165   0   0   0   0   0   0   0   0   0]\n",
            " [  0   0   0   0   0   0   0   0   0  44 221 206 225 218 218 210 207 215 203   0   0   0   0   0   0   0   0   0]\n",
            " [  0   0   0   0   0   0   0   0   0  79 227 204 224 222 216 211 210 210 196   0   0   0   0   0   0   0   0   0]\n",
            " [  0   0   0   0   0   0   0   0   0 103 232 203 225 222 216 211 214 208 204   0   0   0   0   0   0   0   0   0]\n",
            " [  0   0   0   0   0   0   0   0   0 137 235 203 225 222 217 210 214 209 211  15   0   0   0   0   0   0   0   0]\n",
            " [  0   0   0   0   0   0   0   0   0 167 234 202 223 223 220 210 214 209 215  44   0   0   0   0   0   0   0   0]\n",
            " [  0   0   0   0   0   0   0   0   0 185 235 203 224 224 220 210 216 213 221  66   0   0   0   0   0   0   0   0]\n",
            " [  0   0   0   0   0   0   0   0   0 197 237 193 225 224 218 209 217 213 223  88   0   0   0   0   0   0   0   0]\n",
            " [  0   0   0   0   0   0   0   0   0 224 242 189 224 227 223 209 217 214 227  91   0   0   0   0   0   0   0   0]\n",
            " [  0   0   0   0   0   0   0   0   0 241 242 193 232 234 222 211 222 217 229 100   0   0   0   0   0   0   0   0]\n",
            " [  0   0   0   0   0   0   0   0   0 213 243 197 224 221 221 213 225 222 230 115   0   0   0   0   0   0   0   0]\n",
            " [  0   0   0   0   0   0   0   0   0 224 241 210 221 220 220 216 230 224 232 112   0   0   0   0   0   0   0   0]\n",
            " [  0   0   0   0   0   0   0   0   0 243 252 215 238 235 229 228 237 229 244 129   0   0   0   0   0   0   0   0]\n",
            " [  0   0   0   0   0   0   0   0   0 204 181 199 186 185 208 206 197 209 214  86   0   0   0   0   0   0   0   0]]\n"
          ]
        },
        {
          "output_type": "execute_result",
          "data": {
            "text/plain": [
              "<matplotlib.image.AxesImage at 0x7fd8ff1bf610>"
            ]
          },
          "metadata": {},
          "execution_count": 6
        },
        {
          "output_type": "display_data",
          "data": {
            "text/plain": [
              "<Figure size 432x288 with 1 Axes>"
            ],
            "image/png": "[encoded data removed]"
          },
          "metadata": {
            "needs_background": "light"
          }
        }
      ]
    },
    {
      "cell_type": "markdown",
      "source": [
        "# **Normalizing the data:**\n",
        "The values in the previous print are between (0, 255), so if you are training a neural netwirk specially in image processing, we will need to normalize the data and make it scaled between (0, 1) thus to make the model learn better"
      ],
      "metadata": {
        "id": "yei5h3U39k40"
      }
    },
    {
      "cell_type": "code",
      "source": [
        "train_images = train_images / 255.0\n",
        "test_images = test_images / 255.0"
      ],
      "metadata": {
        "id": "A_g_Fg5a9kAc"
      },
      "execution_count": null,
      "outputs": []
    },
    {
      "cell_type": "code",
      "source": [
        ""
      ],
      "metadata": {
        "id": "islsr88d-WW5"
      },
      "execution_count": null,
      "outputs": []
    },
    {
      "cell_type": "markdown",
      "source": [
        "# **Building the classification model:**\n",
        "\n",
        "Sequential: Is a function that defines the sequence of layers in the neural network\n",
        "\n",
        "Flatten: converting the data from 2D array(28, 28) into 1D array\n",
        "\n",
        "\n",
        "\n"
      ],
      "metadata": {
        "id": "Ko1ZImx253bE"
      }
    },
    {
      "cell_type": "code",
      "source": [
        "from tensorflow import keras\n",
        "model = tf.keras.models.Sequential([\n",
        "    #Specifu=ying the first convolution(we asking keras to generat:\n",
        "    #64 random filters, each filter is 3 by 3 matrix and the shape is (28, 28) and the extra 1 is just means that\n",
        "    #we are talling using a single byte for color depth)\n",
        "    \n",
        "    tf.keras.layers.Conv2D(64,(3,3), activation='relu', input_shape = (28, 28, 1)),\n",
        "    tf.keras.layers.MaxPool2D(2, 2),\n",
        "    tf.keras.layers.Conv2D(64,(3,3), activation='relu'),\n",
        "    tf.keras.layers.MaxPool2D(2, 2),\n",
        "    tf.keras.layers.Flatten(),\n",
        "    tf.keras.layers.Dense(128, activation='relu'),\n",
        "    tf.keras.layers.Dense(10, activation='softmax')\n",
        "])"
      ],
      "metadata": {
        "id": "2qlbMQYM5TKK"
      },
      "execution_count": null,
      "outputs": []
    },
    {
      "cell_type": "code",
      "source": [
        "model.summary()"
      ],
      "metadata": {
        "colab": {
          "base_uri": "https://localhost:8080/"
        },
        "id": "d-MGvb3Kkhp9",
        "outputId": "80a1cdf0-5598-4c90-e4ef-fcf715284e33"
      },
      "execution_count": null,
      "outputs": [
        {
          "output_type": "stream",
          "name": "stdout",
          "text": [
            "Model: \"sequential\"\n",
            "_________________________________________________________________\n",
            " Layer (type)                Output Shape              Param #   \n",
            "=================================================================\n",
            " conv2d (Conv2D)             (None, 26, 26, 64)        640       \n",
            "                                                                 \n",
            " max_pooling2d (MaxPooling2D  (None, 13, 13, 64)       0         \n",
            " )                                                               \n",
            "                                                                 \n",
            " conv2d_1 (Conv2D)           (None, 11, 11, 64)        36928     \n",
            "                                                                 \n",
            " max_pooling2d_1 (MaxPooling  (None, 5, 5, 64)         0         \n",
            " 2D)                                                             \n",
            "                                                                 \n",
            " flatten (Flatten)           (None, 1600)              0         \n",
            "                                                                 \n",
            " dense (Dense)               (None, 128)               204928    \n",
            "                                                                 \n",
            " dense_1 (Dense)             (None, 10)                1290      \n",
            "                                                                 \n",
            "=================================================================\n",
            "Total params: 243,786\n",
            "Trainable params: 243,786\n",
            "Non-trainable params: 0\n",
            "_________________________________________________________________\n"
          ]
        }
      ]
    },
    {
      "cell_type": "markdown",
      "source": [
        "This method allows you to inspect the layers of the model, and see the journey of the image through the convolutions"
      ],
      "metadata": {
        "id": "vVk084sUklWH"
      }
    },
    {
      "cell_type": "markdown",
      "source": [
        "## **Finding the loss function and the optimizer**\n",
        "**Loss function:** Measure how well or baldly it did. \n",
        "\n",
        "**The optimizer:** Is used to generate a new guess and repeate until the loss function will be the optimal one so the model will have the best accuracy"
      ],
      "metadata": {
        "id": "kI_ePnyP_Llj"
      }
    },
    {
      "cell_type": "code",
      "source": [
        "model.compile(optimizer= tf.optimizers.Adam(),\n",
        "              loss = 'sparse_categorical_crossentropy',\n",
        "              metrics= ['accuracy']\n",
        "              )\n",
        "model.fit(train_images, train_labels, epochs =5, callbacks = [callbacks])"
      ],
      "metadata": {
        "colab": {
          "base_uri": "https://localhost:8080/"
        },
        "id": "sVK5uvQR7Mzd",
        "outputId": "77178d7e-0e1b-4f16-8861-6a6a7a8c7b62"
      },
      "execution_count": null,
      "outputs": [
        {
          "output_type": "stream",
          "name": "stdout",
          "text": [
            "Epoch 1/5\n",
            "1875/1875 [==============================] - ETA: 0s - loss: 0.3802 - accuracy: 0.8617\n",
            "Loss is low so cancelling training!\n",
            "1875/1875 [==============================] - 86s 45ms/step - loss: 0.3802 - accuracy: 0.8617\n"
          ]
        },
        {
          "output_type": "execute_result",
          "data": {
            "text/plain": [
              "<keras.callbacks.History at 0x7fd8f6f67710>"
            ]
          },
          "metadata": {},
          "execution_count": 11
        }
      ]
    },
    {
      "cell_type": "markdown",
      "source": [
        "#**Evaluate the model:**"
      ],
      "metadata": {
        "id": "rjAR8C4tAxQ4"
      }
    },
    {
      "cell_type": "code",
      "source": [
        "model.evaluate(test_images, test_labels)"
      ],
      "metadata": {
        "colab": {
          "base_uri": "https://localhost:8080/"
        },
        "id": "sIcdfo44Aw0A",
        "outputId": "68ed1639-571a-4f10-adb0-95ef6d57dd95"
      },
      "execution_count": null,
      "outputs": [
        {
          "output_type": "stream",
          "name": "stdout",
          "text": [
            "313/313 [==============================] - 5s 16ms/step - loss: 0.3377 - accuracy: 0.8778\n"
          ]
        },
        {
          "output_type": "execute_result",
          "data": {
            "text/plain": [
              "[0.3376733362674713, 0.8777999877929688]"
            ]
          },
          "metadata": {},
          "execution_count": 12
        }
      ]
    }
  ]
}
