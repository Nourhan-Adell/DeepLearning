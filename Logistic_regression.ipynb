{
  "nbformat": 4,
  "nbformat_minor": 0,
  "metadata": {
    "colab": {
      "name": "Logistic_regression.ipynb",
      "provenance": [],
      "authorship_tag": "ABX9TyPVHL+ls3UfxSdpuguDsxnj",
      "include_colab_link": true
    },
    "kernelspec": {
      "name": "python3",
      "display_name": "Python 3"
    },
    "language_info": {
      "name": "python"
    }
  },
  "cells": [
    {
      "cell_type": "markdown",
      "metadata": {
        "id": "view-in-github",
        "colab_type": "text"
      },
      "source": [
        "<a href=\"https://colab.research.google.com/github/Nourhan-Adell/DeepLearninr_Andrew/blob/main/Logistic_regression.ipynb\" target=\"_parent\"><img src=\"https://colab.research.google.com/assets/colab-badge.svg\" alt=\"Open In Colab\"/></a>"
      ]
    },
    {
      "cell_type": "markdown",
      "source": [
        "# **Logistic regression:**"
      ],
      "metadata": {
        "id": "EDEdLA4odV2F"
      }
    },
    {
      "cell_type": "markdown",
      "source": [
        "# **Import packages:**"
      ],
      "metadata": {
        "id": "ZBvvvBdz2Cm5"
      }
    },
    {
      "cell_type": "code",
      "source": [
        "import copy\n",
        "import matplotlib.pyplot as plt\n",
        "import scipy\n",
        "from PIL import Image   # Python Imaging Library\n",
        "from scipy import ndimage\n",
        "import autoreload\n",
        "\n",
        "%matplotlib inline\n",
        "#%load_ext autoreload      #autoreload reloads modules automatically before entering the execution of code\n",
        "#%autoreload 2"
      ],
      "metadata": {
        "id": "5XgwHog_1EL3"
      },
      "execution_count": 9,
      "outputs": []
    },
    {
      "cell_type": "markdown",
      "source": [
        "# **Load the dataset:**"
      ],
      "metadata": {
        "id": "ns2yKZYfwWmN"
      }
    },
    {
      "cell_type": "code",
      "source": [
        "import numpy as np\n",
        "import h5py   #is used for images\n",
        "\n",
        "def load_dataset():\n",
        "  train_dataset = h5py.File('/content/dataset/train_catvnoncat.h5','r')\n",
        "  train_set_x_orig = np.array(train_dataset['train_set_x'][:])    # the train set features (get all the data of train_set)\n",
        "  train_set_y_orig = np.array(train_dataset['train_set_y'][:])    #The train set label\n",
        "  \n",
        "  test_dataset = h5py.File('/content/dataset/test_catvnoncat.h5','r')\n",
        "  test_set_x_orig = np.array(test_dataset['test_set_x'][:]) # The test set features\n",
        "  test_set_y_orig = np.array(test_dataset['test_set_y'][:]) # The test set labels\n",
        "\n",
        "  classes = np.array(test_dataset['list_classes'][:]) #The list of classes\n",
        "\n",
        "  train_set_y_orig = train_set_y_orig.reshape((1,train_set_y_orig.shape[0]))\n",
        "  test_set_y_orig = test_set_y_orig.reshape((1, test_set_y_orig.shape[0]))\n",
        "\n",
        "  return train_set_x_orig, train_set_y_orig, test_set_x_orig, test_set_y_orig, classes"
      ],
      "metadata": {
        "id": "Lbw2PUrYdGNj"
      },
      "execution_count": 3,
      "outputs": []
    },
    {
      "cell_type": "code",
      "source": [
        "train_set_x_orig, train_set_y, test_set_x_orig, test_set_y, classes = load_dataset()"
      ],
      "metadata": {
        "id": "on5XSBXV1Ao7"
      },
      "execution_count": 6,
      "outputs": []
    },
    {
      "cell_type": "code",
      "source": [
        "print(classes)"
      ],
      "metadata": {
        "colab": {
          "base_uri": "https://localhost:8080/"
        },
        "id": "qRJEigUDORW2",
        "outputId": "f58dfbe7-1a81-4676-f634-d41e84b19e97"
      },
      "execution_count": 7,
      "outputs": [
        {
          "output_type": "stream",
          "name": "stdout",
          "text": [
            "[b'non-cat' b'cat']\n"
          ]
        }
      ]
    },
    {
      "cell_type": "code",
      "source": [
        "#show example of the pictures\n",
        "index = 10\n",
        "plt.imshow(train_set_x_orig[index])\n",
        "print('y = ' + str(train_set_y[:,index]) + ' , It is a ' + classes[np.squeeze(train_set_y[:, index])].decode('utf-8') + ' picture')"
      ],
      "metadata": {
        "colab": {
          "base_uri": "https://localhost:8080/",
          "height": 285
        },
        "id": "-G36Nqd3NZFo",
        "outputId": "33e1ac00-9de0-4400-e4e3-680acc754aa0"
      },
      "execution_count": 15,
      "outputs": [
        {
          "output_type": "stream",
          "name": "stdout",
          "text": [
            "y = [0] , It is a non-cat picture\n"
          ]
        },
        {
          "output_type": "display_data",
          "data": {
            "text/plain": [
              "<Figure size 432x288 with 1 Axes>"
            ],
            "image/png": "[encoded data removed]"
          },
          "metadata": {
            "needs_background": "light"
          }
        }
      ]
    },
    {
      "cell_type": "markdown",
      "source": [
        "# **Describe the dataset**"
      ],
      "metadata": {
        "id": "SuMZkk79RZs8"
      }
    },
    {
      "cell_type": "code",
      "source": [
        "number_taining_set = train_set_x_orig.shape[0]    #number of rows\n",
        "number_test_set = test_set_x_orig.shape[0]        #number of rows\n",
        "number_px = test_set_x_orig.shape[1]              #(= height = width of a training image)\n",
        "\n",
        "print (\"Number of training examples: \" + str(number_taining_set))\n",
        "print (\"Number of testing examples: \" + str(number_test_set))\n",
        "print (\"Height/Width of each image: num_px = \" + str(number_px))\n",
        "print (\"Each image is of size: (\" + str(number_px) + \", \" + str(number_px) + \", 3)\")  # 3 is the RGB\n",
        "print (\"train_set_x shape: \" + str(train_set_x_orig.shape))\n",
        "print (\"train_set_y shape: \" + str(train_set_y.shape))\n",
        "print (\"test_set_x shape: \" + str(test_set_x_orig.shape))\n",
        "print (\"test_set_y shape: \" + str(test_set_y.shape))"
      ],
      "metadata": {
        "id": "cSDdX4P53VkR",
        "colab": {
          "base_uri": "https://localhost:8080/"
        },
        "outputId": "677c2142-a138-4083-8459-07fb791ef3a9"
      },
      "execution_count": 16,
      "outputs": [
        {
          "output_type": "stream",
          "name": "stdout",
          "text": [
            "Number of training examples: 209\n",
            "Number of testing examples: 50\n",
            "Height/Width of each image: num_px = 64\n",
            "Each image is of size: (64, 64, 3)\n",
            "train_set_x shape: (209, 64, 64, 3)\n",
            "train_set_y shape: (1, 209)\n",
            "test_set_x shape: (50, 64, 64, 3)\n",
            "test_set_y shape: (1, 50)\n"
          ]
        }
      ]
    },
    {
      "cell_type": "code",
      "source": [
        "# Reshape the training and test examples to be a vector \n",
        "train_set_x_flatten = train_set_x_orig.reshape(train_set_x_orig.shape[0], -1).T\n",
        "    # It takes place through multiplication process of the pixels of the photo (=64*64*3), and\n",
        "    # the number of rows is the same, so it will be (209, 12288), then transpose it.\n",
        "test_set_x_flatten = test_set_x_orig.reshape(test_set_x_orig.shape[0], -1).T\n",
        "\n",
        "print (\"train_set_x_flatten shape: \" + str(train_set_x_flatten.shape))\n",
        "print (\"train_set_y shape: \" + str(train_set_y.shape))\n",
        "print (\"test_set_x_flatten shape: \" + str(test_set_x_flatten.shape))\n",
        "print (\"test_set_y shape: \" + str(test_set_y.shape))\n",
        "print (\"sanity check after reshaping: \" + str(train_set_x_flatten[0:5,0]))\n"
      ],
      "metadata": {
        "colab": {
          "base_uri": "https://localhost:8080/"
        },
        "id": "IRVHNGWmShgm",
        "outputId": "f4ae0af0-7252-45f9-b058-d3e0aa54c10a"
      },
      "execution_count": 22,
      "outputs": [
        {
          "output_type": "stream",
          "name": "stdout",
          "text": [
            "train_set_x_flatten shape: (12288, 209)\n",
            "train_set_y shape: (1, 209)\n",
            "test_set_x_flatten shape: (12288, 50)\n",
            "test_set_y shape: (1, 50)\n",
            "sanity check after reshaping: [17 31 56 22 33]\n"
          ]
        }
      ]
    },
    {
      "cell_type": "code",
      "source": [
        "\n",
        "print (\"train_set_x_orig shape: \" + str(train_set_x_orig.shape))\n",
        "print (\"train_set_y shape: \" + str(train_set_y.shape))\n",
        "print (\"test_set_x_orig shape: \" + str(test_set_x_orig.shape))\n",
        "print (\"test_set_y shape: \" + str(test_set_y.shape))\n",
        "print (\"sanity check after reshaping: \" + str(train_set_x_flatten[0:5,0]))"
      ],
      "metadata": {
        "colab": {
          "base_uri": "https://localhost:8080/"
        },
        "id": "NV1PNRj1TAoH",
        "outputId": "2a919ae8-0597-44b2-cb04-dd37fdff8d48"
      },
      "execution_count": 23,
      "outputs": [
        {
          "output_type": "stream",
          "name": "stdout",
          "text": [
            "train_set_x_orig shape: (209, 64, 64, 3)\n",
            "train_set_y shape: (1, 209)\n",
            "test_set_x_orig shape: (50, 64, 64, 3)\n",
            "test_set_y shape: (1, 50)\n",
            "sanity check after reshaping: [17 31 56 22 33]\n"
          ]
        }
      ]
    },
    {
      "cell_type": "markdown",
      "source": [
        "To represent color images, the red, green and blue channels (RGB) must be specified for each pixel, and so the pixel value is actually a vector of three numbers ranging from 0 to 255.\n",
        "\n",
        "One common preprocessing step in machine learning is to center and standardize your dataset, meaning that you substract the mean of the whole numpy array from each example, and then divide each example by the standard deviation of the whole numpy array. But for picture datasets, it is simpler and more convenient and works almost as well to just divide every row of the dataset by 255 (the maximum value of a pixel channel).\n",
        "\n",
        "Let's standardize our dataset."
      ],
      "metadata": {
        "id": "ZgXveF2HUk_Z"
      }
    },
    {
      "cell_type": "code",
      "source": [
        "train_set_x = train_set_x_flatten / 255\n",
        "test_set_x = test_set_x_flatten / 255\n"
      ],
      "metadata": {
        "id": "j62BH1tmTRAO"
      },
      "execution_count": 24,
      "outputs": []
    },
    {
      "cell_type": "markdown",
      "source": [
        "<a name='3'></a>\n",
        "## 3 - General Architecture of the learning algorithm ##\n",
        "\n",
        "It's time to design a simple algorithm to distinguish cat images from non-cat images.\n",
        "\n",
        "You will build a Logistic Regression, using a Neural Network mindset. The following Figure explains why **Logistic Regression is actually a very simple Neural Network!**\n",
        "\n",
        "<img src=\"/content/images/LogReg_kiank.png\" style=\"width:650px;height:400px;\">\n",
        "\n",
        "**Mathematical expression of the algorithm**:\n",
        "\n",
        "For one example $x^{(i)}$:\n",
        "$$z^{(i)} = w^T x^{(i)} + b \\tag{1}$$\n",
        "$$\\hat{y}^{(i)} = a^{(i)} = sigmoid(z^{(i)})\\tag{2}$$ \n",
        "$$ \\mathcal{L}(a^{(i)}, y^{(i)}) =  - y^{(i)}  \\log(a^{(i)}) - (1-y^{(i)} )  \\log(1-a^{(i)})\\tag{3}$$\n",
        "\n",
        "The cost is then computed by summing over all training examples:\n",
        "$$ J = \\frac{1}{m} \\sum_{i=1}^m \\mathcal{L}(a^{(i)}, y^{(i)})\\tag{6}$$\n",
        "\n",
        "**Key steps**:\n",
        "In this exercise, you will carry out the following steps: \n",
        "    - Initialize the parameters of the model\n",
        "    - Learn the parameters for the model by minimizing the cost  \n",
        "    - Use the learned parameters to make predictions (on the test set)\n",
        "    - Analyse the results and conclude"
      ],
      "metadata": {
        "id": "crkzvZc6U8sL"
      }
    },
    {
      "cell_type": "code",
      "source": [
        "def sigmoid(z):\n",
        "  s = 1 / (1 + np.exp(-z))\n",
        "  return s"
      ],
      "metadata": {
        "id": "oDUWEc4CU6Ak"
      },
      "execution_count": 26,
      "outputs": []
    },
    {
      "cell_type": "code",
      "source": [
        "def initialize_with_zeros(dim):\n",
        "    w = np.zeros(shape=(dim,1))\n",
        "    b = 0\n",
        "    return w,b\n",
        "\"\"\"\n",
        "    This function creates a vector of zeros of shape (dim, 1) for w and initializes b to 0.\n",
        "    \n",
        "    Argument:\n",
        "    dim -- size of the w vector we want (or number of parameters in this case)\n",
        "    \n",
        "    Returns:\n",
        "    w -- initialized vector of shape (dim, 1)\n",
        "    b -- initialized scalar (corresponds to the bias) of type float\n",
        "\"\"\""
      ],
      "metadata": {
        "colab": {
          "base_uri": "https://localhost:8080/",
          "height": 70
        },
        "id": "a_au1pEcV73w",
        "outputId": "7ed7642a-23c0-4844-a616-d5f43c16f646"
      },
      "execution_count": 28,
      "outputs": [
        {
          "output_type": "execute_result",
          "data": {
            "text/plain": [
              "'\\n    This function creates a vector of zeros of shape (dim, 1) for w and initializes b to 0.\\n    \\n    Argument:\\n    dim -- size of the w vector we want (or number of parameters in this case)\\n    \\n    Returns:\\n    w -- initialized vector of shape (dim, 1)\\n    b -- initialized scalar (corresponds to the bias) of type float\\n'"
            ],
            "application/vnd.google.colaboratory.intrinsic+json": {
              "type": "string"
            }
          },
          "metadata": {},
          "execution_count": 28
        }
      ]
    },
    {
      "cell_type": "markdown",
      "source": [
        "# **Forward and backward propagation:**"
      ],
      "metadata": {
        "id": "An1ZhBFqWrhQ"
      }
    },
    {
      "cell_type": "code",
      "source": [
        "def propagate(w,b,X,Y):\n",
        "#Implement the cost function and its gradient\n",
        "  m = X.shape[1]\n",
        "\n",
        "  #Forward propagation\n",
        "  A = sigmoid(np.dot(w.T, X) + b)\n",
        "  cost = (-1/m)*(np.sum(Y * np.log(A) + (1-Y) * np.log(1-A)))\n",
        "\n",
        "  #Backward propagation:\n",
        "  dw = (1/m) * np.dot(X, (A-Y).T)\n",
        "  db = (1/m) * np.sum(A-Y)\n",
        "\n",
        "  cost = np.squeeze(np.array(cost))\n",
        "\n",
        "  grads = {'dw': dw, 'db': db }\n",
        "  return grads,cost"
      ],
      "metadata": {
        "id": "sPziv8uuWf21"
      },
      "execution_count": 29,
      "outputs": []
    },
    {
      "cell_type": "markdown",
      "source": [
        "# **Optimization:**\n",
        "Is to update the parameters using the gradient descent"
      ],
      "metadata": {
        "id": "vjQwvTADYgGg"
      }
    },
    {
      "cell_type": "code",
      "source": [
        "def optimize(w, b, X, Y, num_iterations=100, learning_rate=0.009, print_cost=False):\n",
        "\n",
        "    w = copy.deepcopy(w)\n",
        "    b = copy.deepcopy(b)\n",
        "    \n",
        "    costs = []\n",
        "    \n",
        "    for i in range(num_iterations):\n",
        "        grads, cost = propagate(w, b, X, Y)\n",
        "                \n",
        "        dw = grads[\"dw\"]\n",
        "        db = grads[\"db\"]\n",
        "\n",
        "        w = w - learning_rate * dw\n",
        "        b = b - learning_rate * db\n",
        "                \n",
        "        # Record the costs\n",
        "        if i % 100 == 0:\n",
        "            costs.append(cost)\n",
        "        \n",
        "            # Print the cost every 100 training iterations\n",
        "            if print_cost:\n",
        "                print (\"Cost after iteration %i: %f\" %(i, cost))\n",
        "    \n",
        "    params = {\"w\": w,\n",
        "              \"b\": b}\n",
        "    \n",
        "    grads = {\"dw\": dw,\n",
        "             \"db\": db}\n",
        "    \n",
        "    return params, grads, costs"
      ],
      "metadata": {
        "id": "g_FX1VcQYZDj"
      },
      "execution_count": 57,
      "outputs": []
    },
    {
      "cell_type": "markdown",
      "source": [
        "# **Predict:**"
      ],
      "metadata": {
        "id": "GAx1jrycakaj"
      }
    },
    {
      "cell_type": "code",
      "source": [
        "def predict(w, b, X):\n",
        "  #Predict whether the label is 0 or 1 using learned logistic regression parameters (w, b)\n",
        "  m = X.shape[1]\n",
        "  y_prediction = np.zeros((1,m))    # Compute vector \"A\" predicting the probabilities of a cat being present in the picture\n",
        "  w = w.reshape( X.shape[0], 1)\n",
        "\n",
        "  A = sigmoid(np.dot(w.T, X) + b)\n",
        "  for i in range(A.shape[1]):\n",
        "     #Convert probabilities A[0,i] to actual predictions p[0,i]\n",
        "     if A[0,i] > 0.5:\n",
        "       y_prediction [0,i] = 1\n",
        "     else:\n",
        "       y_prediction[0, i] = 0\n",
        "  return y_prediction"
      ],
      "metadata": {
        "id": "ZI9MMXqXacwj"
      },
      "execution_count": 63,
      "outputs": []
    },
    {
      "cell_type": "markdown",
      "source": [
        "# **Merge all functions into a Model:**"
      ],
      "metadata": {
        "id": "WS6HopCTbylU"
      }
    },
    {
      "cell_type": "code",
      "source": [
        "def model(X_train, Y_train, X_test, Y_test, num_iterations = 2000, learning_rate = 0.5, print_cost=False):\n",
        "  w, b = initialize_with_zeros(X_train.shape[0])\n",
        "  params, grads, costs = optimize(w, b, X_train, Y_train, num_iterations, learning_rate, print_cost)\n",
        "  w = params['w']\n",
        "  b = params['b']\n",
        "\n",
        "  Y_prediction_test = predict(w, b, X_test)\n",
        "  Y_prediction_train = predict(w, b, X_train)\n",
        "\n",
        "  if print_cost:\n",
        "        print(\"train accuracy: {} %\".format(100 - np.mean(np.abs(Y_prediction_train - Y_train)) * 100))\n",
        "        print(\"test accuracy: {} %\".format(100 - np.mean(np.abs(Y_prediction_test - Y_test)) * 100))\n",
        "  d = {\"costs\": costs,\n",
        "         \"Y_prediction_test\": Y_prediction_test, \n",
        "         \"Y_prediction_train\" : Y_prediction_train, \n",
        "         \"w\" : w, \n",
        "         \"b\" : b,\n",
        "         \"learning_rate\" : learning_rate,\n",
        "         \"num_iterations\": num_iterations}\n",
        "    \n",
        "  return d"
      ],
      "metadata": {
        "id": "jUUsNpK_bkJJ"
      },
      "execution_count": 64,
      "outputs": []
    },
    {
      "cell_type": "code",
      "source": [
        "logistic_regression_model = model(train_set_x, train_set_y, test_set_x, test_set_y, num_iterations=2000, learning_rate=0.005, print_cost=True)"
      ],
      "metadata": {
        "colab": {
          "base_uri": "https://localhost:8080/"
        },
        "id": "ybwEZfIydFZY",
        "outputId": "5799e0ef-3716-47f1-acdc-326fef7e5428"
      },
      "execution_count": 65,
      "outputs": [
        {
          "output_type": "stream",
          "name": "stdout",
          "text": [
            "Cost after iteration 0: 0.693147\n",
            "Cost after iteration 100: 0.584508\n",
            "Cost after iteration 200: 0.466949\n",
            "Cost after iteration 300: 0.376007\n",
            "Cost after iteration 400: 0.331463\n",
            "Cost after iteration 500: 0.303273\n",
            "Cost after iteration 600: 0.279880\n",
            "Cost after iteration 700: 0.260042\n",
            "Cost after iteration 800: 0.242941\n",
            "Cost after iteration 900: 0.228004\n",
            "Cost after iteration 1000: 0.214820\n",
            "Cost after iteration 1100: 0.203078\n",
            "Cost after iteration 1200: 0.192544\n",
            "Cost after iteration 1300: 0.183033\n",
            "Cost after iteration 1400: 0.174399\n",
            "Cost after iteration 1500: 0.166521\n",
            "Cost after iteration 1600: 0.159305\n",
            "Cost after iteration 1700: 0.152667\n",
            "Cost after iteration 1800: 0.146542\n",
            "Cost after iteration 1900: 0.140872\n",
            "train accuracy: 99.04306220095694 %\n",
            "test accuracy: 70.0 %\n"
          ]
        }
      ]
    }
  ]
}