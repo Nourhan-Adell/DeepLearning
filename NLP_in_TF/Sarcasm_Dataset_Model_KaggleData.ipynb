{
  "nbformat": 4,
  "nbformat_minor": 0,
  "metadata": {
    "colab": {
      "provenance": [],
      "collapsed_sections": [],
      "authorship_tag": "ABX9TyM7lOrKqpV+8G6D1XBTm5Bh",
      "include_colab_link": true
    },
    "kernelspec": {
      "name": "python3",
      "display_name": "Python 3"
    },
    "language_info": {
      "name": "python"
    }
  },
  "cells": [
    {
      "cell_type": "markdown",
      "metadata": {
        "id": "view-in-github",
        "colab_type": "text"
      },
      "source": [
        "<a href=\"https://colab.research.google.com/github/Nourhan-Adell/DeepLearning/blob/main/NLP_in_TF/Sarcasm_Dataset_Model_KaggleData.ipynb\" target=\"_parent\"><img src=\"https://colab.research.google.com/assets/colab-badge.svg\" alt=\"Open In Colab\"/></a>"
      ]
    },
    {
      "cell_type": "markdown",
      "source": [
        "# **Training a binary classifier with the Sarcasm Dataset**\n",
        "\n",
        "Quest: Applying the preprocessing step to the [News Headlines Dataset for Sarcasm Detection](https://www.kaggle.com/datasets/rmisra/news-headlines-dataset-for-sarcasm-detection)."
      ],
      "metadata": {
        "id": "SWPQYPuTjgSF"
      }
    },
    {
      "cell_type": "markdown",
      "source": [
        "### **Download and inspect the dataset**"
      ],
      "metadata": {
        "id": "qltMKgy03d4M"
      }
    },
    {
      "cell_type": "code",
      "source": [
        "# Download the dataset\n",
        "!wget https://storage.googleapis.com/tensorflow-1-public/course3/sarcasm.json"
      ],
      "metadata": {
        "colab": {
          "base_uri": "https://localhost:8080/"
        },
        "id": "0HLDjqAf2wXD",
        "outputId": "fe67a3a3-238d-4357-d009-3b0f790b78bd"
      },
      "execution_count": 1,
      "outputs": [
        {
          "output_type": "stream",
          "name": "stdout",
          "text": [
            "--2022-10-12 12:18:18--  https://storage.googleapis.com/tensorflow-1-public/course3/sarcasm.json\n",
            "Resolving storage.googleapis.com (storage.googleapis.com)... 74.125.23.128, 74.125.203.128, 74.125.204.128, ...\n",
            "Connecting to storage.googleapis.com (storage.googleapis.com)|74.125.23.128|:443... connected.\n",
            "HTTP request sent, awaiting response... 200 OK\n",
            "Length: 5643545 (5.4M) [application/json]\n",
            "Saving to: ‘sarcasm.json’\n",
            "\n",
            "\rsarcasm.json          0%[                    ]       0  --.-KB/s               \rsarcasm.json        100%[===================>]   5.38M  --.-KB/s    in 0.04s   \n",
            "\n",
            "2022-10-12 12:18:19 (131 MB/s) - ‘sarcasm.json’ saved [5643545/5643545]\n",
            "\n"
          ]
        }
      ]
    },
    {
      "cell_type": "code",
      "source": [
        "import json     # This allows to load the data in JSON format and automatically create a python data structure from it.\n",
        "\n",
        "with open('sarcasm.json','r') as f:\n",
        "  datastore= json.load(f)\n",
        "\n",
        "datastore[:5]"
      ],
      "metadata": {
        "colab": {
          "base_uri": "https://localhost:8080/"
        },
        "id": "zgv97pE73mjq",
        "outputId": "bb27efee-e69f-4d78-a819-41e6159739fc"
      },
      "execution_count": 2,
      "outputs": [
        {
          "output_type": "execute_result",
          "data": {
            "text/plain": [
              "[{'article_link': 'https://www.huffingtonpost.com/entry/versace-black-code_us_5861fbefe4b0de3a08f600d5',\n",
              "  'headline': \"former versace store clerk sues over secret 'black code' for minority shoppers\",\n",
              "  'is_sarcastic': 0},\n",
              " {'article_link': 'https://www.huffingtonpost.com/entry/roseanne-revival-review_us_5ab3a497e4b054d118e04365',\n",
              "  'headline': \"the 'roseanne' revival catches up to our thorny political mood, for better and worse\",\n",
              "  'is_sarcastic': 0},\n",
              " {'article_link': 'https://local.theonion.com/mom-starting-to-fear-son-s-web-series-closest-thing-she-1819576697',\n",
              "  'headline': \"mom starting to fear son's web series closest thing she will have to grandchild\",\n",
              "  'is_sarcastic': 1},\n",
              " {'article_link': 'https://politics.theonion.com/boehner-just-wants-wife-to-listen-not-come-up-with-alt-1819574302',\n",
              "  'headline': 'boehner just wants wife to listen, not come up with alternative debt-reduction ideas',\n",
              "  'is_sarcastic': 1},\n",
              " {'article_link': 'https://www.huffingtonpost.com/entry/jk-rowling-wishes-snape-happy-birthday_us_569117c4e4b0cad15e64fdcb',\n",
              "  'headline': 'j.k. rowling wishes snape happy birthday in the most magical way',\n",
              "  'is_sarcastic': 0}]"
            ]
          },
          "metadata": {},
          "execution_count": 2
        }
      ]
    },
    {
      "cell_type": "markdown",
      "source": [
        "**Notice that:**\n",
        "\n",
        "Each element consists of a dictionary with a URL link, the actual headline, and a label named is_sarcastic."
      ],
      "metadata": {
        "id": "RRgrwBx65Z-w"
      }
    },
    {
      "cell_type": "code",
      "source": [
        "print(datastore[0])"
      ],
      "metadata": {
        "colab": {
          "base_uri": "https://localhost:8080/"
        },
        "id": "2vg-hYzw5lwl",
        "outputId": "3323739f-19fd-4791-c93b-6ab972cc9020"
      },
      "execution_count": 3,
      "outputs": [
        {
          "output_type": "stream",
          "name": "stdout",
          "text": [
            "{'article_link': 'https://www.huffingtonpost.com/entry/versace-black-code_us_5861fbefe4b0de3a08f600d5', 'headline': \"former versace store clerk sues over secret 'black code' for minority shoppers\", 'is_sarcastic': 0}\n"
          ]
        }
      ]
    },
    {
      "cell_type": "markdown",
      "source": [
        "### **Importing libraries**"
      ],
      "metadata": {
        "id": "_OxzNe2WJz0a"
      }
    },
    {
      "cell_type": "code",
      "source": [
        "import tensorflow as tf\n",
        "from tensorflow import keras\n",
        "from tensorflow.keras.preprocessing.text import Tokenizer\n",
        "from tensorflow.keras.preprocessing.sequence import pad_sequences"
      ],
      "metadata": {
        "id": "X0hc6w6ikCq3"
      },
      "execution_count": 38,
      "outputs": []
    },
    {
      "cell_type": "code",
      "source": [
        "# Initialize lists\n",
        "sentences= []\n",
        "labels= []\n",
        "links= []\n",
        "\n",
        "# Append elements in the dictionaries into each list\n",
        "for item in datastore:\n",
        "  sentences.append(item['headline'])\n",
        "  labels.append(item['is_sarcastic'])\n",
        "  links.append(item['article_link'])"
      ],
      "metadata": {
        "id": "bTZK2Spp3mlp"
      },
      "execution_count": 39,
      "outputs": []
    },
    {
      "cell_type": "code",
      "source": [
        "len(sentences)"
      ],
      "metadata": {
        "colab": {
          "base_uri": "https://localhost:8080/"
        },
        "id": "GI0cvDfMJXSV",
        "outputId": "d6a0b83a-3037-455c-8b66-644dc9bdf229"
      },
      "execution_count": 40,
      "outputs": [
        {
          "output_type": "execute_result",
          "data": {
            "text/plain": [
              "26709"
            ]
          },
          "metadata": {},
          "execution_count": 40
        }
      ]
    },
    {
      "cell_type": "markdown",
      "source": [
        "### **Specify the Hyper-Parameters**"
      ],
      "metadata": {
        "id": "N_8TAv36KE-h"
      }
    },
    {
      "cell_type": "code",
      "source": [
        "# Hyper-Parameters:\n",
        "# Number of examples to use for training\n",
        "training_size= 20000\n",
        "\n",
        "# Vocabulary size of the tokenizer\n",
        "vocab_size= 10000\n",
        "\n",
        "# Output dimensions of the Embedding layer\n",
        "embedding_dim= 16\n",
        "\n",
        "# Maximum length of the padded sequences\n",
        "max_length= 32"
      ],
      "metadata": {
        "id": "ccG_M3nOAbwX"
      },
      "execution_count": 41,
      "outputs": []
    },
    {
      "cell_type": "markdown",
      "source": [
        "### **Split the data**"
      ],
      "metadata": {
        "id": "SgQI0LaZJLOb"
      }
    },
    {
      "cell_type": "code",
      "source": [
        "# Split the sentences\n",
        "training_sentences = sentences[0:training_size]\n",
        "testing_sentences = sentences[training_size:]\n",
        "\n",
        "# Split the labels\n",
        "training_labels = labels[0:training_size]\n",
        "testing_labels = labels[training_size:]"
      ],
      "metadata": {
        "id": "XammvwLuJKbt"
      },
      "execution_count": 49,
      "outputs": []
    },
    {
      "cell_type": "markdown",
      "source": [
        "### **Generate Padded && Sequences**"
      ],
      "metadata": {
        "id": "QGDaeb4E5xvW"
      }
    },
    {
      "cell_type": "code",
      "source": [
        "trunc_type= 'post'\n",
        "padding_type= 'post'\n",
        "oov_tok= '<OOV>'\n",
        "\n",
        "# Initialize the Tokenizer class\n",
        "tokenizer = Tokenizer(num_words= vocab_size, oov_token= oov_tok)\n",
        "\n",
        "# Generate the word index dictionary\n",
        "tokenizer.fit_on_texts(training_sentences)\n",
        "word_index = tokenizer.word_index\n",
        "\n",
        "# Generate sequence and pad to the training sentences\n",
        "training_sequences = tokenizer.texts_to_sequences(training_sentences)\n",
        "training_padd= pad_sequences(training_sequences,maxlen= max_length, padding= padding_type, truncating= trunc_type)\n",
        "\n",
        "# Generate sequence and pad to the testing sentences\n",
        "testing_sequences = tokenizer.texts_to_sequences(testing_sentences)\n",
        "testing_padd= pad_sequences(testing_sequences,maxlen= max_length, padding= padding_type, truncating= trunc_type)\n",
        "\n",
        "# Convert the labels lists into numpy arrays\n",
        "training_labels = np.array(training_labels)\n",
        "testing_labels = np.array(testing_labels)"
      ],
      "metadata": {
        "id": "s8wjpf53kDEp"
      },
      "execution_count": 50,
      "outputs": []
    },
    {
      "cell_type": "markdown",
      "source": [
        "### **Building and compile the Model**"
      ],
      "metadata": {
        "id": "vmhhNG1XIc1M"
      }
    },
    {
      "cell_type": "code",
      "source": [
        "model= tf.keras.Sequential([tf.keras.layers.Embedding(vocab_size, embedding_dim, input_length=max_length),  #This is the key to text sentiment analysis in tensorflow\n",
        "                           tf.keras.layers.GlobalAveragePooling1D(),    # It's like the flatten layer, but it's simpler and faster  \n",
        "                           tf.keras.layers.Dense(24, activation='relu'),\n",
        "                           tf.keras.layers.Dense(1, activation= 'sigmoid')\n",
        "                           ])\n",
        "\n",
        "model.compile(loss='binary_crossentropy',optimizer= 'adam', metrics=['accuracy'])"
      ],
      "metadata": {
        "id": "TnrAo9vnI5BL"
      },
      "execution_count": 51,
      "outputs": []
    },
    {
      "cell_type": "code",
      "source": [
        "model.summary()"
      ],
      "metadata": {
        "colab": {
          "base_uri": "https://localhost:8080/"
        },
        "id": "SoPJ8lhlLpVx",
        "outputId": "f4d6ca22-5636-490f-d73c-681043d67822"
      },
      "execution_count": 52,
      "outputs": [
        {
          "output_type": "stream",
          "name": "stdout",
          "text": [
            "Model: \"sequential_4\"\n",
            "_________________________________________________________________\n",
            " Layer (type)                Output Shape              Param #   \n",
            "=================================================================\n",
            " embedding_4 (Embedding)     (None, 32, 16)            160000    \n",
            "                                                                 \n",
            " global_average_pooling1d_5   (None, 16)               0         \n",
            " (GlobalAveragePooling1D)                                        \n",
            "                                                                 \n",
            " dense_8 (Dense)             (None, 24)                408       \n",
            "                                                                 \n",
            " dense_9 (Dense)             (None, 1)                 25        \n",
            "                                                                 \n",
            "=================================================================\n",
            "Total params: 160,433\n",
            "Trainable params: 160,433\n",
            "Non-trainable params: 0\n",
            "_________________________________________________________________\n"
          ]
        }
      ]
    },
    {
      "cell_type": "markdown",
      "source": [
        "### **Train the model**"
      ],
      "metadata": {
        "id": "rtQ3cEfBL0l5"
      }
    },
    {
      "cell_type": "code",
      "source": [
        "num_epochs = 30\n",
        "\n",
        "# Train the model\n",
        "history = model.fit(training_padd, training_labels, epochs=num_epochs,\n",
        "                    validation_data=(testing_padd, testing_labels), verbose=2)"
      ],
      "metadata": {
        "colab": {
          "base_uri": "https://localhost:8080/"
        },
        "id": "n35dbzN6LqnG",
        "outputId": "7eadbc9e-9662-4d35-c69e-5e64713780b1"
      },
      "execution_count": 53,
      "outputs": [
        {
          "output_type": "stream",
          "name": "stdout",
          "text": [
            "Epoch 1/30\n",
            "625/625 - 3s - loss: 0.5729 - accuracy: 0.6985 - val_loss: 0.4132 - val_accuracy: 0.8299 - 3s/epoch - 5ms/step\n",
            "Epoch 2/30\n",
            "625/625 - 2s - loss: 0.3236 - accuracy: 0.8712 - val_loss: 0.3456 - val_accuracy: 0.8568 - 2s/epoch - 4ms/step\n",
            "Epoch 3/30\n",
            "625/625 - 2s - loss: 0.2442 - accuracy: 0.9043 - val_loss: 0.3423 - val_accuracy: 0.8535 - 2s/epoch - 4ms/step\n",
            "Epoch 4/30\n",
            "625/625 - 2s - loss: 0.1976 - accuracy: 0.9257 - val_loss: 0.3527 - val_accuracy: 0.8530 - 2s/epoch - 4ms/step\n",
            "Epoch 5/30\n",
            "625/625 - 3s - loss: 0.1648 - accuracy: 0.9401 - val_loss: 0.3722 - val_accuracy: 0.8547 - 3s/epoch - 5ms/step\n",
            "Epoch 6/30\n",
            "625/625 - 3s - loss: 0.1398 - accuracy: 0.9509 - val_loss: 0.4009 - val_accuracy: 0.8509 - 3s/epoch - 4ms/step\n",
            "Epoch 7/30\n",
            "625/625 - 2s - loss: 0.1204 - accuracy: 0.9586 - val_loss: 0.4474 - val_accuracy: 0.8402 - 2s/epoch - 4ms/step\n",
            "Epoch 8/30\n",
            "625/625 - 2s - loss: 0.1045 - accuracy: 0.9653 - val_loss: 0.5008 - val_accuracy: 0.8335 - 2s/epoch - 4ms/step\n",
            "Epoch 9/30\n",
            "625/625 - 4s - loss: 0.0914 - accuracy: 0.9697 - val_loss: 0.5163 - val_accuracy: 0.8387 - 4s/epoch - 7ms/step\n",
            "Epoch 10/30\n",
            "625/625 - 4s - loss: 0.0802 - accuracy: 0.9740 - val_loss: 0.5631 - val_accuracy: 0.8353 - 4s/epoch - 7ms/step\n",
            "Epoch 11/30\n",
            "625/625 - 4s - loss: 0.0692 - accuracy: 0.9776 - val_loss: 0.6062 - val_accuracy: 0.8323 - 4s/epoch - 6ms/step\n",
            "Epoch 12/30\n",
            "625/625 - 4s - loss: 0.0609 - accuracy: 0.9811 - val_loss: 0.6642 - val_accuracy: 0.8259 - 4s/epoch - 6ms/step\n",
            "Epoch 13/30\n",
            "625/625 - 3s - loss: 0.0537 - accuracy: 0.9840 - val_loss: 0.7045 - val_accuracy: 0.8265 - 3s/epoch - 4ms/step\n",
            "Epoch 14/30\n",
            "625/625 - 4s - loss: 0.0466 - accuracy: 0.9855 - val_loss: 0.7760 - val_accuracy: 0.8205 - 4s/epoch - 6ms/step\n",
            "Epoch 15/30\n",
            "625/625 - 2s - loss: 0.0419 - accuracy: 0.9873 - val_loss: 0.8197 - val_accuracy: 0.8199 - 2s/epoch - 4ms/step\n",
            "Epoch 16/30\n",
            "625/625 - 2s - loss: 0.0358 - accuracy: 0.9898 - val_loss: 0.8743 - val_accuracy: 0.8179 - 2s/epoch - 4ms/step\n",
            "Epoch 17/30\n",
            "625/625 - 3s - loss: 0.0323 - accuracy: 0.9909 - val_loss: 0.9282 - val_accuracy: 0.8161 - 3s/epoch - 5ms/step\n",
            "Epoch 18/30\n",
            "625/625 - 2s - loss: 0.0293 - accuracy: 0.9911 - val_loss: 0.9835 - val_accuracy: 0.8144 - 2s/epoch - 4ms/step\n",
            "Epoch 19/30\n",
            "625/625 - 2s - loss: 0.0259 - accuracy: 0.9929 - val_loss: 1.0438 - val_accuracy: 0.8123 - 2s/epoch - 4ms/step\n",
            "Epoch 20/30\n",
            "625/625 - 3s - loss: 0.0228 - accuracy: 0.9939 - val_loss: 1.0933 - val_accuracy: 0.8111 - 3s/epoch - 5ms/step\n",
            "Epoch 21/30\n",
            "625/625 - 3s - loss: 0.0203 - accuracy: 0.9946 - val_loss: 1.1438 - val_accuracy: 0.8094 - 3s/epoch - 5ms/step\n",
            "Epoch 22/30\n",
            "625/625 - 2s - loss: 0.0187 - accuracy: 0.9952 - val_loss: 1.1917 - val_accuracy: 0.8095 - 2s/epoch - 4ms/step\n",
            "Epoch 23/30\n",
            "625/625 - 2s - loss: 0.0159 - accuracy: 0.9962 - val_loss: 1.2529 - val_accuracy: 0.8097 - 2s/epoch - 4ms/step\n",
            "Epoch 24/30\n",
            "625/625 - 2s - loss: 0.0144 - accuracy: 0.9961 - val_loss: 1.3228 - val_accuracy: 0.8082 - 2s/epoch - 4ms/step\n",
            "Epoch 25/30\n",
            "625/625 - 2s - loss: 0.0129 - accuracy: 0.9967 - val_loss: 1.3618 - val_accuracy: 0.8076 - 2s/epoch - 4ms/step\n",
            "Epoch 26/30\n",
            "625/625 - 2s - loss: 0.0132 - accuracy: 0.9966 - val_loss: 1.4132 - val_accuracy: 0.8061 - 2s/epoch - 4ms/step\n",
            "Epoch 27/30\n",
            "625/625 - 2s - loss: 0.0114 - accuracy: 0.9966 - val_loss: 1.4853 - val_accuracy: 0.8041 - 2s/epoch - 4ms/step\n",
            "Epoch 28/30\n",
            "625/625 - 2s - loss: 0.0100 - accuracy: 0.9977 - val_loss: 1.5639 - val_accuracy: 0.8064 - 2s/epoch - 4ms/step\n",
            "Epoch 29/30\n",
            "625/625 - 2s - loss: 0.0104 - accuracy: 0.9969 - val_loss: 1.6537 - val_accuracy: 0.8038 - 2s/epoch - 4ms/step\n",
            "Epoch 30/30\n",
            "625/625 - 2s - loss: 0.0080 - accuracy: 0.9980 - val_loss: 1.6747 - val_accuracy: 0.8056 - 2s/epoch - 4ms/step\n"
          ]
        }
      ]
    },
    {
      "cell_type": "markdown",
      "source": [
        "### **Visualize the Results**"
      ],
      "metadata": {
        "id": "1fOc891sPPxq"
      }
    },
    {
      "cell_type": "code",
      "source": [
        "import matplotlib.pyplot as plt\n",
        "\n",
        "# Plot utility\n",
        "def plot_graphs(history, string):\n",
        "  plt.plot(history.history[string])\n",
        "  plt.plot(history.history['val_'+string])\n",
        "  plt.xlabel(\"Epochs\")\n",
        "  plt.ylabel(string)\n",
        "  plt.legend([string, 'val_'+string])\n",
        "  plt.show()\n",
        "  \n",
        "# Plot the accuracy and loss\n",
        "plot_graphs(history, \"accuracy\")\n",
        "plot_graphs(history, \"loss\")"
      ],
      "metadata": {
        "id": "RZilTTHwMB3V"
      },
      "execution_count": 53,
      "outputs": []
    },
    {
      "cell_type": "markdown",
      "source": [
        "### **Visualize Word Embeddings**"
      ],
      "metadata": {
        "id": "_JSp5wYtPUt6"
      }
    },
    {
      "cell_type": "code",
      "source": [
        "# Get the index-word dictionary\n",
        "reverse_word_index = tokenizer.index_word\n",
        "\n",
        "# Get the embedding layer from the model (i.e. first layer)\n",
        "embedding_layer = model.layers[0]\n",
        "\n",
        "# Get the weights of the embedding layer\n",
        "embedding_weights = embedding_layer.get_weights()[0]\n",
        "\n",
        "# Print the shape. Expected is (vocab_size, embedding_dim)\n",
        "print(embedding_weights.shape) "
      ],
      "metadata": {
        "colab": {
          "base_uri": "https://localhost:8080/"
        },
        "id": "yQD1F8FYPTDJ",
        "outputId": "4effdafe-e4e7-4b04-82db-fd9e2874b5a8"
      },
      "execution_count": 54,
      "outputs": [
        {
          "output_type": "stream",
          "name": "stdout",
          "text": [
            "(10000, 16)\n"
          ]
        }
      ]
    },
    {
      "cell_type": "code",
      "source": [
        "import io\n",
        "\n",
        "# Open writeable files\n",
        "out_v = io.open('vecs.tsv', 'w', encoding='utf-8')\n",
        "out_m = io.open('meta.tsv', 'w', encoding='utf-8')\n",
        "\n",
        "# Initialize the loop. Start counting at `1` because `0` is just for the padding\n",
        "for word_num in range(1, vocab_size):\n",
        "\n",
        "  # Get the word associated at the current index\n",
        "  word_name = reverse_word_index[word_num]\n",
        "\n",
        "  # Get the embedding weights associated with the current index\n",
        "  word_embedding = embedding_weights[word_num]\n",
        "\n",
        "  # Write the word name\n",
        "  out_m.write(word_name + \"\\n\")\n",
        "\n",
        "  # Write the word embedding\n",
        "  out_v.write('\\t'.join([str(x) for x in word_embedding]) + \"\\n\")\n",
        "\n",
        "# Close the files\n",
        "out_v.close()\n",
        "out_m.close()"
      ],
      "metadata": {
        "id": "8A4vrgF-PXw2"
      },
      "execution_count": 55,
      "outputs": []
    },
    {
      "cell_type": "code",
      "source": [
        "# Import files utilities in Colab\n",
        "try:\n",
        "  from google.colab import files\n",
        "except ImportError:\n",
        "  pass\n",
        "\n",
        "# Download the files\n",
        "else:\n",
        "  files.download('vecs.tsv')\n",
        "  files.download('meta.tsv')"
      ],
      "metadata": {
        "colab": {
          "base_uri": "https://localhost:8080/",
          "height": 17
        },
        "id": "bWyG0KNpPZ0m",
        "outputId": "52369217-0a30-4f61-d7da-e69df0f48293"
      },
      "execution_count": 56,
      "outputs": [
        {
          "output_type": "display_data",
          "data": {
            "text/plain": [
              "<IPython.core.display.Javascript object>"
            ],
            "application/javascript": [
              "\n",
              "    async function download(id, filename, size) {\n",
              "      if (!google.colab.kernel.accessAllowed) {\n",
              "        return;\n",
              "      }\n",
              "      const div = document.createElement('div');\n",
              "      const label = document.createElement('label');\n",
              "      label.textContent = `Downloading \"${filename}\": `;\n",
              "      div.appendChild(label);\n",
              "      const progress = document.createElement('progress');\n",
              "      progress.max = size;\n",
              "      div.appendChild(progress);\n",
              "      document.body.appendChild(div);\n",
              "\n",
              "      const buffers = [];\n",
              "      let downloaded = 0;\n",
              "\n",
              "      const channel = await google.colab.kernel.comms.open(id);\n",
              "      // Send a message to notify the kernel that we're ready.\n",
              "      channel.send({})\n",
              "\n",
              "      for await (const message of channel.messages) {\n",
              "        // Send a message to notify the kernel that we're ready.\n",
              "        channel.send({})\n",
              "        if (message.buffers) {\n",
              "          for (const buffer of message.buffers) {\n",
              "            buffers.push(buffer);\n",
              "            downloaded += buffer.byteLength;\n",
              "            progress.value = downloaded;\n",
              "          }\n",
              "        }\n",
              "      }\n",
              "      const blob = new Blob(buffers, {type: 'application/binary'});\n",
              "      const a = document.createElement('a');\n",
              "      a.href = window.URL.createObjectURL(blob);\n",
              "      a.download = filename;\n",
              "      div.appendChild(a);\n",
              "      a.click();\n",
              "      div.remove();\n",
              "    }\n",
              "  "
            ]
          },
          "metadata": {}
        },
        {
          "output_type": "display_data",
          "data": {
            "text/plain": [
              "<IPython.core.display.Javascript object>"
            ],
            "application/javascript": [
              "download(\"download_117849e6-8ca1-4f65-bb6d-d210cafe2215\", \"vecs.tsv\", 1838445)"
            ]
          },
          "metadata": {}
        },
        {
          "output_type": "display_data",
          "data": {
            "text/plain": [
              "<IPython.core.display.Javascript object>"
            ],
            "application/javascript": [
              "\n",
              "    async function download(id, filename, size) {\n",
              "      if (!google.colab.kernel.accessAllowed) {\n",
              "        return;\n",
              "      }\n",
              "      const div = document.createElement('div');\n",
              "      const label = document.createElement('label');\n",
              "      label.textContent = `Downloading \"${filename}\": `;\n",
              "      div.appendChild(label);\n",
              "      const progress = document.createElement('progress');\n",
              "      progress.max = size;\n",
              "      div.appendChild(progress);\n",
              "      document.body.appendChild(div);\n",
              "\n",
              "      const buffers = [];\n",
              "      let downloaded = 0;\n",
              "\n",
              "      const channel = await google.colab.kernel.comms.open(id);\n",
              "      // Send a message to notify the kernel that we're ready.\n",
              "      channel.send({})\n",
              "\n",
              "      for await (const message of channel.messages) {\n",
              "        // Send a message to notify the kernel that we're ready.\n",
              "        channel.send({})\n",
              "        if (message.buffers) {\n",
              "          for (const buffer of message.buffers) {\n",
              "            buffers.push(buffer);\n",
              "            downloaded += buffer.byteLength;\n",
              "            progress.value = downloaded;\n",
              "          }\n",
              "        }\n",
              "      }\n",
              "      const blob = new Blob(buffers, {type: 'application/binary'});\n",
              "      const a = document.createElement('a');\n",
              "      a.href = window.URL.createObjectURL(blob);\n",
              "      a.download = filename;\n",
              "      div.appendChild(a);\n",
              "      a.click();\n",
              "      div.remove();\n",
              "    }\n",
              "  "
            ]
          },
          "metadata": {}
        },
        {
          "output_type": "display_data",
          "data": {
            "text/plain": [
              "<IPython.core.display.Javascript object>"
            ],
            "application/javascript": [
              "download(\"download_a17e6b33-132d-4c1b-98cd-44f97d0eb5c5\", \"meta.tsv\", 75974)"
            ]
          },
          "metadata": {}
        }
      ]
    }
  ]
}