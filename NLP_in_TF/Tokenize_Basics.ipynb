{
  "nbformat": 4,
  "nbformat_minor": 0,
  "metadata": {
    "colab": {
      "provenance": [],
      "collapsed_sections": [],
      "authorship_tag": "ABX9TyO8xTrqMhNE18NMuP9tdb6k",
      "include_colab_link": true
    },
    "kernelspec": {
      "name": "python3",
      "display_name": "Python 3"
    },
    "language_info": {
      "name": "python"
    }
  },
  "cells": [
    {
      "cell_type": "markdown",
      "metadata": {
        "id": "view-in-github",
        "colab_type": "text"
      },
      "source": [
        "<a href=\"https://colab.research.google.com/github/Nourhan-Adell/DeepLearning/blob/main/Tokenize_Basics.ipynb\" target=\"_parent\"><img src=\"https://colab.research.google.com/assets/colab-badge.svg\" alt=\"Open In Colab\"/></a>"
      ]
    },
    {
      "cell_type": "markdown",
      "source": [
        "# **Tokenize Basics**"
      ],
      "metadata": {
        "id": "-cg_NsChir4x"
      }
    },
    {
      "cell_type": "markdown",
      "source": [
        "### **Import libraries**"
      ],
      "metadata": {
        "id": "Hs0spWCHepS7"
      }
    },
    {
      "cell_type": "code",
      "source": [
        "import tensorflow as tf\n",
        "from tensorflow import keras\n",
        "from tensorflow.keras.preprocessing.text import Tokenizer   #is used to encode words\n"
      ],
      "metadata": {
        "id": "ySv-fpNIesUJ"
      },
      "execution_count": 5,
      "outputs": []
    },
    {
      "cell_type": "markdown",
      "source": [
        "**Tokenizer API**: \n",
        "- Will handle the heavy lifting for us, by generating the dictionary of word encodings and creating vectors out of the sentences\n",
        "- It also remove the punctuation from the sentences\n",
        "- It changes all the upper characters into lower one."
      ],
      "metadata": {
        "id": "CpY-P5UzfZ5b"
      }
    },
    {
      "cell_type": "markdown",
      "source": [
        "### **Start building the model**"
      ],
      "metadata": {
        "id": "X7agnfrwe6vb"
      }
    },
    {
      "cell_type": "code",
      "source": [
        "# Define input sentences \n",
        "sentences = ['I love my dog',\n",
        "             'I love my cat',\n",
        "             'You love my dog!']"
      ],
      "metadata": {
        "id": "SKvk_LGFe5DF"
      },
      "execution_count": 7,
      "outputs": []
    },
    {
      "cell_type": "code",
      "source": [
        "# Intialize the tokenizer class\n",
        "tokenizer = Tokenizer(num_words= 100)   \n",
        "# As we have only 5 distinct words in this data\n",
        "# In case of large data and we acyuallu didn't know the number of words, by putting this hyperparameter the tokenizer will take \n",
        "#the top 100 words by volume and just encode those.\n",
        "\n",
        "#Generate indecies for each word in the corpus\n",
        "tokenizer.fit_on_texts(sentences)   # takes the data and encodes it\n",
        "\n",
        "# Get the indecies and print them\n",
        "word_index = tokenizer.word_index   #this function(word_index) return a dictionary containing the key value pairs, where the key: word && value: token for the word.\n",
        "print(word_index)"
      ],
      "metadata": {
        "colab": {
          "base_uri": "https://localhost:8080/"
        },
        "id": "UZ4UREMOfLrT",
        "outputId": "2f2690e5-bcdd-4f64-8686-203d7e81d161"
      },
      "execution_count": 8,
      "outputs": [
        {
          "output_type": "stream",
          "name": "stdout",
          "text": [
            "{'love': 1, 'my': 2, 'i': 3, 'dog': 4, 'cat': 5, 'you': 6}\n"
          ]
        }
      ]
    }
  ]
}
